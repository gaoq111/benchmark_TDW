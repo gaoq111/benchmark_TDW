{
 "cells": [
  {
   "cell_type": "code",
   "execution_count": 1,
   "metadata": {},
   "outputs": [],
   "source": [
    "import yaml\n",
    "from tqdm import tqdm\n",
    "import random"
   ]
  },
  {
   "cell_type": "code",
   "execution_count": 2,
   "metadata": {},
   "outputs": [],
   "source": [
    "scenes = ['empty_scene', 'box_room_2018', 'archviz_house', 'suburb_scene_2018']\n",
    "scenes = ['archviz_house', 'suburb_scene_2018']\n",
    "materials = ['concrete_raw_damaged', 'leather_bull', 'iron_rusty', 'wood_american_chestnut']\n",
    "sizes= {'large': 0.3, 'medium': 0.2, 'small': 0.1}\n",
    "colors = {'red':(1,0,0), 'green':(0,1,0), 'blue':(0,0,1), 'black': (0,0,0)}\n",
    "\n",
    "# read the camera and object configs\n",
    "with open('scene_settings.yaml', 'r') as file:\n",
    "\tcongfig = yaml.safe_load(file)"
   ]
  },
  {
   "cell_type": "code",
   "execution_count": 3,
   "metadata": {},
   "outputs": [
    {
     "name": "stderr",
     "output_type": "stream",
     "text": [
      "100%|██████████| 2/2 [00:00<00:00, 5433.04it/s]\n"
     ]
    }
   ],
   "source": [
    "commands = []\n",
    "\n",
    "for scene in tqdm(scenes):\n",
    "    for material in materials:\n",
    "        for size_name, size_value in sizes.items():\n",
    "            for color_name, color_value in colors.items():\n",
    "                r,g,b = color_value\n",
    "                x_range = congfig[scene]['vision_boundary']['x']\n",
    "                z_range = congfig[scene]['vision_boundary']['z']\n",
    "                y = congfig[scene]['vision_boundary']['y']\n",
    "                x  = random.uniform(x_range[0], x_range[1])\n",
    "                z  = random.uniform(z_range[0], z_range[1])\n",
    "                path = f'{scene}/{size_name}/{material}/{color_name}'\n",
    "                command = f\"python visual_attribute.py --output '/data/shared/sim/benchmark/benchmark_TDW/image_capture/visual_attribute' --name {path} --cameras top --size {size_value} --scene {scene} --color {r} {g} {b} --custom_position {x} {y} {z} --material {material}\"\n",
    "                commands.append(command)"
   ]
  },
  {
   "cell_type": "code",
   "execution_count": 4,
   "metadata": {},
   "outputs": [],
   "source": [
    "# Define the file name\n",
    "sh_file = \"/data/shared/sim/benchmark/benchmark_TDW/sample_data_generation.sh\"\n",
    "\n",
    "# Write the list of commands to the .sh file\n",
    "with open(sh_file, 'w') as file:\n",
    "    for command in commands:\n",
    "        file.write(command + \"\\n\")  # Write each command followed by a newline\n",
    "\n",
    "# Optionally, make the .sh file executable (on Unix systems)\n",
    "import os\n",
    "# os.chmod(sh_file, 0o755)  # Give execute permissions to the .sh file"
   ]
  }
 ],
 "metadata": {
  "kernelspec": {
   "display_name": "tdw",
   "language": "python",
   "name": "python3"
  },
  "language_info": {
   "codemirror_mode": {
    "name": "ipython",
    "version": 3
   },
   "file_extension": ".py",
   "mimetype": "text/x-python",
   "name": "python",
   "nbconvert_exporter": "python",
   "pygments_lexer": "ipython3",
   "version": "3.10.14"
  }
 },
 "nbformat": 4,
 "nbformat_minor": 2
}
