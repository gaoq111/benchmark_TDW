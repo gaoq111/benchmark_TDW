{
 "cells": [
  {
   "cell_type": "code",
   "execution_count": 2,
   "metadata": {},
   "outputs": [
    {
     "name": "stdout",
     "output_type": "stream",
     "text": [
      "[(np.float64(-12.544), np.float64(-5.21)), (np.float64(-12.5065), np.float64(-5.21)), (np.float64(-12.469), np.float64(-5.21)), (np.float64(-12.4315), np.float64(-5.21)), (np.float64(-12.394), np.float64(-5.21)), (np.float64(-12.3565), np.float64(-5.21)), (np.float64(-12.319), np.float64(-5.21)), (np.float64(-12.2815), np.float64(-5.21)), (np.float64(-12.244), np.float64(-5.21)), (np.float64(-12.244), np.float64(-5.1725)), (np.float64(-12.244), np.float64(-5.135)), (np.float64(-12.244), np.float64(-5.0975)), (np.float64(-12.244), np.float64(-5.06)), (np.float64(-12.244), np.float64(-5.0225)), (np.float64(-12.244), np.float64(-4.985)), (np.float64(-12.244), np.float64(-4.9475)), (np.float64(-12.244), np.float64(-4.91)), (np.float64(-12.2868571429), np.float64(-4.91)), (np.float64(-12.3297142857), np.float64(-4.91)), (np.float64(-12.3725714286), np.float64(-4.91)), (np.float64(-12.4154285714), np.float64(-4.91)), (np.float64(-12.4582857143), np.float64(-4.91)), (np.float64(-12.5011428571), np.float64(-4.91)), (np.float64(-12.544), np.float64(-4.91)), (np.float64(-12.544), np.float64(-4.9528571429)), (np.float64(-12.544), np.float64(-4.9957142857)), (np.float64(-12.544), np.float64(-5.0385714286)), (np.float64(-12.544), np.float64(-5.0814285714)), (np.float64(-12.544), np.float64(-5.1242857143)), (np.float64(-12.544), np.float64(-5.1671428571)), (np.float64(-12.544), np.float64(-5.21))]\n"
     ]
    }
   ],
   "source": [
    "import numpy as np\n",
    "\n",
    "def generate_square_points(center, side_length, num_points, direction=\"cw\"):\n",
    "    \"\"\"\n",
    "    Generate a list of coordinates forming a square surrounding a center point.\n",
    "\n",
    "    Parameters:\n",
    "    - center (tuple): The (x, y) coordinates of the square's center.\n",
    "    - side_length (float): The length of the square's sides.\n",
    "    - num_points (int): The total number of points to generate around the square.\n",
    "    - direction (str): The direction to order the points, \"cw\" (clockwise) or \"ccw\" (counterclockwise).\n",
    "\n",
    "    Returns:\n",
    "    - List of tuples representing the coordinates of the points.\n",
    "    \"\"\"\n",
    "    x_center, y_center = center\n",
    "    half_side = side_length / 2\n",
    "    \n",
    "    # Define the square's vertices\n",
    "    vertices = [\n",
    "        (x_center - half_side, y_center - half_side),  # Bottom-left\n",
    "        (x_center + half_side, y_center - half_side),  # Bottom-right\n",
    "        (x_center + half_side, y_center + half_side),  # Top-right\n",
    "        (x_center - half_side, y_center + half_side),  # Top-left\n",
    "    ]\n",
    "\n",
    "    if direction.lower() == \"ccw\":\n",
    "        vertices = vertices[::-1]\n",
    "\n",
    "    # Interpolate points along the edges\n",
    "    points = []\n",
    "    points_per_side = num_points // 4\n",
    "    remainder_points = num_points % 4\n",
    "\n",
    "    for i in range(4):\n",
    "        start = vertices[i]\n",
    "        end = vertices[(i + 1) % 4]\n",
    "        segment_points = [\n",
    "            (\n",
    "                round(start[0] + t * (end[0] - start[0]), 10),\n",
    "                round(start[1] + t * (end[1] - start[1]), 10)\n",
    "            )\n",
    "            for t in np.linspace(0, 1, points_per_side + (1 if i < remainder_points else 0), endpoint=False)\n",
    "        ]\n",
    "        points.extend(segment_points)\n",
    "\n",
    "    # Ensure the square is closed\n",
    "    if points[0] != points[-1]:\n",
    "        points.append(points[0])\n",
    "\n",
    "    return points\n",
    "\n",
    "# Example usage:\n",
    "center = (-12.394, -5.06)\n",
    "side_length = 0.3\n",
    "num_points = 30\n",
    "direction = \"cw\"\n",
    "\n",
    "square_points = generate_square_points(center, side_length, num_points, direction)\n",
    "print(square_points)\n"
   ]
  },
  {
   "cell_type": "code",
   "execution_count": null,
   "metadata": {},
   "outputs": [],
   "source": []
  }
 ],
 "metadata": {
  "kernelspec": {
   "display_name": "tdw",
   "language": "python",
   "name": "python3"
  },
  "language_info": {
   "codemirror_mode": {
    "name": "ipython",
    "version": 3
   },
   "file_extension": ".py",
   "mimetype": "text/x-python",
   "name": "python",
   "nbconvert_exporter": "python",
   "pygments_lexer": "ipython3",
   "version": "3.10.14"
  }
 },
 "nbformat": 4,
 "nbformat_minor": 2
}
